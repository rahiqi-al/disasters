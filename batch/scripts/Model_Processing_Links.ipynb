{
 "cells": [
  {
   "cell_type": "markdown",
   "metadata": {},
   "source": [
    "## 🧠 Models\n",
    "| Notebook | Colab Link |\n",
    "|----------|------------|\n",
    "| CNN Classifier (New Dataset) | [![Open](https://colab.research.google.com/assets/colab-badge.svg)](https://colab.research.google.com/drive/127mo0Mq8q9x6dChBa57Dp2U-1cAsjZw_) |\n",
    "| CNN Classifier (old dataset) | [![Open](https://colab.research.google.com/assets/colab-badge.svg)](https://colab.research.google.com/drive/1Koeg9H4T7EkMhRcbCatMy6HA16UK3Cj0) |\n",
    "| Forest Fire Predictor | [![Open](https://colab.research.google.com/assets/colab-badge.svg)](https://colab.research.google.com/drive/19nIF0em763_E3juJubmpZUYNaTr8Jq4n) |\n",
    "\n",
    "## 🛠️ Data Processing\n",
    "| Notebook | Colab Link |\n",
    "|----------|------------|\n",
    "| Earthquake Dataset Cleaning | [![Open](https://colab.research.google.com/assets/colab-badge.svg)](https://colab.research.google.com/drive/1D7_FcOIb5ji90BzF5QM69sSyKomE4KHH) |\n",
    "| Galaxy Schema & data quality | [![Open](https://colab.research.google.com/assets/colab-badge.svg)](https://colab.research.google.com/drive/1Mwksc9h_VXmp-vJMiyPPrUJSqda9gu8r) |\n",
    "| Batch Cleaning (tsunami , volcano , landslide datasets) | [![Open](https://colab.research.google.com/assets/colab-badge.svg)](https://colab.research.google.com/drive/1GZ6EoyZtvqgMRFtwnMouaS7AbfE0pWxa) |\n",
    "\n"
   ]
  }
 ],
 "metadata": {
  "language_info": {
   "name": "python"
  }
 },
 "nbformat": 4,
 "nbformat_minor": 2
}
